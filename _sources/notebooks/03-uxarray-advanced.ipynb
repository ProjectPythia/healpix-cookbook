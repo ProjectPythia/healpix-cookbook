{
 "cells": [
  {
   "cell_type": "markdown",
   "id": "9035d95e-eba1-4741-b8b6-14a1cf69ba69",
   "metadata": {},
   "source": [
    "<img src=\"https://raw.githubusercontent.com/UXARRAY/uxarray/main/docs/_static/images/logos/uxarray_logo_h_dark.svg\"\n",
    "     width=\"30%\"\n",
    "     alt=\"HEALPix logo\"\n",
    "     align=\"right\"\n",
    "/>\n",
    "\n",
    "# UXarray for Advanced HEALPix Analysis and Visualization\n",
    "\n",
    "This section is under construction.\n",
    "\n",
    "<!-- ### In this section, you'll learn:\n",
    "\n",
    "* Utilizing intake to open a HEALPix data catalog\n",
    "* Using the `uxarray` package to look at basic statistics over HEALPix data\n",
    "* Using UXarray plotting functionality on HEALPix data\n",
    "\n",
    "### Related Documentation\n",
    "\n",
    "* [UXarray homepage](https://uxarray.readthedocs.io/en/latest/index.html)\n",
    "* [Working with HEALPix data - UXarray documentation](https://uxarray.readthedocs.io/en/latest/user-guide/healpix.html)\n",
    "* [UXarray overview - Unstructured Grids Visualization Cookbook](https://projectpythia.org/unstructured-grid-viz-cookbook/notebooks/02-intro-to-uxarray/overview.html)\n",
    "* [Data visualization with UXarray - Unstructured Grids Visualization Cookbook](https://projectpythia.org/unstructured-grid-viz-cookbook/notebooks/03-plotting-with-uxarray/data-viz.html)\n",
    "* [Subsetting - UXarray documentation](https://uxarray.readthedocs.io/en/latest/user-guide/subset.html)\n",
    "* [Intake Cookbook](https://projectpythia.org/intake-cookbook/README.html)\n",
    "\n",
    "### Prerequisites\n",
    "\n",
    "| Concepts | Importance | Notes |\n",
    "| --- | --- | --- |\n",
    "| [UXarray](https://uxarray.readthedocs.io/en/latest/index.html) | Necessary  | |\n",
    "| [HEALPix overview](00-healpix) | Necessary  | |\n",
    "\n",
    "**Time to learn**: 30 minutes -->\n",
    "\n",
    "-----"
   ]
  },
  {
   "cell_type": "code",
   "execution_count": null,
   "id": "e054bec4-a073-49bc-9106-ed10ac1710d4",
   "metadata": {},
   "outputs": [],
   "source": []
  }
 ],
 "metadata": {
  "kernelspec": {
   "display_name": "Python 3 (ipykernel)",
   "language": "python",
   "name": "python3"
  },
  "language_info": {
   "codemirror_mode": {
    "name": "ipython",
    "version": 3
   },
   "file_extension": ".py",
   "mimetype": "text/x-python",
   "name": "python",
   "nbconvert_exporter": "python",
   "pygments_lexer": "ipython3",
   "version": "3.13.3"
  }
 },
 "nbformat": 4,
 "nbformat_minor": 5
}
