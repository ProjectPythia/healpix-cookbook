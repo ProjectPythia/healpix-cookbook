{
 "cells": [
  {
   "cell_type": "markdown",
   "id": "aebd512853cffa1b",
   "metadata": {},
   "source": "# When to Use Each?\n"
  },
  {
   "metadata": {},
   "cell_type": "markdown",
   "source": "This section is under construction. Please revisit soon!",
   "id": "1094d494-8b3c-44f6-84b0-1c43919e0396"
  },
  {
   "cell_type": "code",
   "execution_count": null,
   "id": "cd0fec41-96d8-47f5-88c9-a470f35d9a59",
   "metadata": {},
   "outputs": [],
   "source": []
  }
 ],
 "metadata": {
  "kernelspec": {
   "display_name": "Python 3 (ipykernel)",
   "language": "python",
   "name": "python3"
  },
  "language_info": {
   "codemirror_mode": {
    "name": "ipython",
    "version": 3
   },
   "file_extension": ".py",
   "mimetype": "text/x-python",
   "name": "python",
   "nbconvert_exporter": "python",
   "pygments_lexer": "ipython3",
   "version": "3.10.13"
  }
 },
 "nbformat": 4,
 "nbformat_minor": 5
}
