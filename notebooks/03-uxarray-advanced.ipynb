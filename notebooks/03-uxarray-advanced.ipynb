{
 "cells": [
  {
   "cell_type": "markdown",
   "id": "9035d95e-eba1-4741-b8b6-14a1cf69ba69",
   "metadata": {},
   "source": [
    "<img src=\"https://raw.githubusercontent.com/UXARRAY/uxarray/main/docs/_static/images/logos/uxarray_logo_h_dark.svg\"\n",
    "     width=\"30%\"\n",
    "     alt=\"HEALPix logo\"\n",
    "     align=\"right\"\n",
    "/>\n",
    "\n",
    "# UXarray for Advanced HEALPix Analysis & Visualization\n",
    "\n",
    "### In this section, you'll learn:\n",
    "\n",
    "* Using the `uxarray` package to perform advanced analysis operators over HEALPix data such as non-conservative zonal means, etc.\n",
    "\n",
    "### Related Documentation\n",
    "\n",
    "* [UXarray homepage](https://uxarray.readthedocs.io/en/latest/index.html)\n",
    "* [Working with HEALPix data - UXarray documentation](https://uxarray.readthedocs.io/en/latest/user-guide/healpix.html)\n",
    "* [UXarray overview - Unstructured Grids Visualization Cookbook](https://projectpythia.org/unstructured-grid-viz-cookbook/notebooks/02-intro-to-uxarray/overview.html)\n",
    "* [Data visualization with UXarray - Unstructured Grids Visualization Cookbook](https://projectpythia.org/unstructured-grid-viz-cookbook/notebooks/03-plotting-with-uxarray/data-viz.html)\n",
    "* [Cross-sections - UXarray documentation](https://uxarray.readthedocs.io/en/latest/user-guide/cross-sections.html)\n",
    "* [Intake Cookbook](https://projectpythia.org/intake-cookbook/README.html)\n",
    "\n",
    "### Prerequisites\n",
    "\n",
    "| Concepts | Importance | Notes |\n",
    "| --- | --- | --- |\n",
    "| [UXarray](https://uxarray.readthedocs.io/en/latest/index.html) | Necessary  | |\n",
    "| [HEALPix overview](00-healpix) | Necessary  | |\n",
    "\n",
    "**Time to learn**: 30 minutes\n",
    "\n",
    "-----"
   ]
  },
  {
   "cell_type": "code",
   "id": "0bf174a3-df82-42f3-8d59-f8dca2bf6fe7",
   "metadata": {},
   "source": [
    "import cartopy.crs as ccrs\n",
    "import holoviews as hv\n",
    "import intake\n",
    "import uxarray as ux"
   ],
   "outputs": [],
   "execution_count": null
  },
  {
   "cell_type": "markdown",
   "id": "0b24ec57-f4c5-49e9-b1ec-0485280ec4d1",
   "metadata": {},
   "source": [
    "## Open data catalog"
   ]
  },
  {
   "cell_type": "markdown",
   "id": "55d33a6a-75d7-485f-a824-6700686faf78",
   "metadata": {},
   "source": [
    ":::{tip}\n",
    "We assume, you have already gone over the previous section, [UXarray for Basic HEALPix Statistics & Visualization](02-uxarray). If not and if you need to learn about data catalogs in general and the data we will use throughout this notebook, we recommend to check that section first.\n",
    ":::"
   ]
  },
  {
   "cell_type": "markdown",
   "id": "294aae00-f9ff-4576-b151-cb2070758d1d",
   "metadata": {},
   "source": [
    "Let us open the online catalog from the [WCRP's Digital Earths Global Hackathon 2025](https://digital-earths-global-hackathon.github.io/) using `intake` and read the output of the `ICON` run `ngc4008`, which is stored in the HEALPix format:"
   ]
  },
  {
   "cell_type": "code",
   "id": "7f184cc9-0544-4668-9453-f4266f4c3deb",
   "metadata": {},
   "source": [
    "# Final data catalog location (once hackathon website (https://digital-earths-global-hackathon.github.io/) updated)\n",
    "# cat_url='https://digital-earths-global-hackathon.github.io/catalog/catalog.yaml'\n",
    "# Interim data catalog location\n",
    "cat_url = \"https://raw.githubusercontent.com/digital-earths-global-hackathon/catalog/refs/heads/ncar/online/main.yaml\"\n",
    "cat = intake.open_catalog(cat_url)\n",
    "model_run = cat.icon_ngc4008"
   ],
   "outputs": [],
   "execution_count": null
  },
  {
   "cell_type": "markdown",
   "id": "fbb96c86-f7d7-4cd8-8647-f777f6476dcb",
   "metadata": {},
   "source": [
    "We can look into a fine resolution dataset at **zoom level = 10** in it as `Xarray.Dataset`:"
   ]
  },
  {
   "cell_type": "code",
   "id": "cf0b677d-6a51-4074-b0cb-a8ebde68bb94",
   "metadata": {},
   "source": [
    "ds = model_run(zoom=9, time=\"P1D\").to_dask()\n",
    "ds"
   ],
   "outputs": [],
   "execution_count": null
  },
  {
   "cell_type": "markdown",
   "id": "ec58c1f7-5f48-43ab-ad4c-9218205bd74a",
   "metadata": {},
   "source": [
    "### Create UXarray Datasets from HEALPix\n",
    "\n",
    "We can use `from_healpix` as follows to open a HEALPix grid from `xarray.Dataset`:"
   ]
  },
  {
   "cell_type": "code",
   "id": "03858953-d3da-4284-a86d-2a92ffd92747",
   "metadata": {},
   "source": [
    "uxds = ux.UxDataset.from_healpix(ds)\n",
    "uxds"
   ],
   "outputs": [],
   "execution_count": null
  },
  {
   "cell_type": "markdown",
   "id": "fc4f5b7e-ec51-41a5-9127-01606d458220",
   "metadata": {},
   "source": [
    "### Data variable of interest\n",
    "\n",
    "Then let us pick a variable from the dataset, which will give us an `uxarray.UxDataArray`:"
   ]
  },
  {
   "cell_type": "code",
   "id": "69264789-ce2c-4366-b4b5-0c52379216e5",
   "metadata": {},
   "source": [
    "uxda = uxds[\"tas\"]\n",
    "uxda"
   ],
   "outputs": [],
   "execution_count": null
  },
  {
   "cell_type": "markdown",
   "id": "5b387252-9644-4a2f-b476-dc63906532b8",
   "metadata": {},
   "source": [
    "### Global mean and plot\n",
    "\n",
    "Computing the global air temperature mean (at the first timestep) and also having a quick plot of it would be a good idea to have as references to compare the upcoming analyses & visualizations to them:"
   ]
  },
  {
   "cell_type": "code",
   "id": "a8996586-39bc-42e0-8882-ad028a9b56f4",
   "metadata": {},
   "source": [
    "%%time\n",
    "print(\n",
    "    \"Global air temperature average on \",\n",
    "    uxda.time[0].values,\n",
    "    \": \",\n",
    "    uxda.isel(time=0).mean().values,\n",
    "    \" K\",\n",
    ")"
   ],
   "outputs": [],
   "execution_count": null
  },
  {
   "cell_type": "code",
   "id": "107527b6-4c48-45bc-be0d-e6d3200ea465",
   "metadata": {},
   "source": [
    "%%time\n",
    "uxda.isel(time=0).plot(\n",
    "    projection=ccrs.Robinson(),\n",
    "    cmap=\"inferno\",\n",
    "    features=[\"borders\", \"coastline\"],\n",
    "    title=\"Global temperature\",\n",
    "    width=700,\n",
    ")"
   ],
   "outputs": [],
   "execution_count": null
  },
  {
   "cell_type": "markdown",
   "id": "b3bb578d276c1ed8",
   "metadata": {},
   "source": [
    "## Rasterized Point Plots\n",
    "\n",
    "When working with a higher-resolution dataset at a global scale, it's not always practical to render each cell as a polygon. Instead, we can rasterize the center of each pixel."
   ]
  },
  {
   "cell_type": "code",
   "id": "127765dd84c26129",
   "metadata": {},
   "source": [
    "# Controls the size of each pixel (smaller value leads to larger pixels)\n",
    "pixel_ratio = 0.5\n",
    "\n",
    "uxda.isel(time=0).plot.points(\n",
    "    projection=ccrs.Robinson(),\n",
    "    rasterize=True,\n",
    "    dynamic=False,\n",
    "    width=700,\n",
    "    pixel_ratio=pixel_ratio,\n",
    "    cmap=\"inferno\",\n",
    "    title=f\"Global Air Temperature, pixel_ratio={pixel_ratio}\",\n",
    ")"
   ],
   "outputs": [],
   "execution_count": null
  },
  {
   "cell_type": "markdown",
   "id": "460c6d0212f21b3e",
   "metadata": {},
   "source": [
    "If we decrease the size of each pixel (by setting the pixel ratio to a higher value), we can start to see missing values, which is due to a lower density of points near the poles, leading to some pixels not containing any of our original points.\n",
    "\n",
    "Because of this, it's useful to try a few `pixel_ratio` values and see which one works best for your given resolution."
   ]
  },
  {
   "cell_type": "code",
   "id": "5296c1c95b989239",
   "metadata": {},
   "source": [
    "# Controls the size of each pixel (smaller value leads to larger pixels)\n",
    "pixel_ratio = 2.0\n",
    "\n",
    "uxda.isel(time=0).plot.points(\n",
    "    projection=ccrs.Robinson(),\n",
    "    rasterize=True,\n",
    "    dynamic=False,\n",
    "    width=700,\n",
    "    pixel_ratio=pixel_ratio,\n",
    "    cmap=\"inferno\",\n",
    "    title=f\"Global Air Temperature with bad pixel size selection, pixel_ratio={pixel_ratio}\",\n",
    ")"
   ],
   "outputs": [],
   "execution_count": null
  },
  {
   "cell_type": "markdown",
   "id": "54b47526-b0b5-4425-b4f9-bb18de792700",
   "metadata": {},
   "source": [
    "## Cross-Sections\n",
    "\n",
    "UXarray provides several spatial cross-section methods:\n",
    "\n",
    "- **Constant-Latitude Slice**\n",
    "  Extract data along a fixed latitude.\n",
    "\n",
    "- **Constant-Longitude Slice**\n",
    "  Extract data along a fixed longitude.\n",
    "\n",
    "- **Latitudinal-Interval Slice**\n",
    "  Extract data between two latitude bounds.\n",
    "\n",
    "- **Longitudinal-Interval Slice**\n",
    "  Extract data between two longitude bounds.\n",
    "\n",
    "To illustrate, we’ll use a zoom level of `4.\n"
   ]
  },
  {
   "metadata": {},
   "cell_type": "code",
   "source": [
    "uxda_coarse = ux.UxDataset.from_healpix(model_run(zoom=4, time=\"P1D\").to_dask())[\"tas\"]"
   ],
   "id": "f7dcb92636178f0f",
   "outputs": [],
   "execution_count": null
  },
  {
   "metadata": {},
   "cell_type": "markdown",
   "source": "### Constant Latitude",
   "id": "ae3177adab2d98a1"
  },
  {
   "cell_type": "code",
   "id": "9e629bfb-fac9-47ca-8d90-751b85ba81bc",
   "metadata": {},
   "source": [
    "boulder_lat = 40.0190\n",
    "\n",
    "uxda_cross_lat = uxda_coarse.cross_section.constant_latitude(boulder_lat)"
   ],
   "outputs": [],
   "execution_count": null
  },
  {
   "cell_type": "code",
   "id": "d4a54a76-16ce-4b56-ba51-3780d38d6577",
   "metadata": {},
   "source": [
    "uxda_cross_lat.isel(time=0).plot(\n",
    "    rasterize=False,\n",
    "    projection=ccrs.Robinson(),\n",
    "    global_extent=True,\n",
    "    cmap=\"inferno\",\n",
    "    features=[\"coastline\"],\n",
    "    title=f\"Global temperature cross-section at {boulder_lat} degrees latitude\",\n",
    "    width=700,\n",
    "    colorbar=False,\n",
    ")"
   ],
   "outputs": [],
   "execution_count": null
  },
  {
   "cell_type": "markdown",
   "id": "e00ec8d145094ce1",
   "metadata": {},
   "source": "Since cross sections return a new instance of our data, we can perform operations directly on them."
  },
  {
   "cell_type": "code",
   "id": "d250d744-d72e-46c9-bd79-7d127567159c",
   "metadata": {},
   "source": [
    "print(\n",
    "    f\"Mean at {boulder_lat} degrees lat (Boulder, CO, USA): {uxda_lat.mean().values} K\"\n",
    ")"
   ],
   "outputs": [],
   "execution_count": null
  },
  {
   "metadata": {},
   "cell_type": "markdown",
   "source": "### Latitude Interval",
   "id": "c5d7e89de1d3d6ec"
  },
  {
   "cell_type": "code",
   "id": "106b2c58-2d57-49d9-8fba-27e7b51cfe52",
   "metadata": {},
   "source": [
    "uxda_lat_interval = uxda_coarse.cross_section.constant_latitude_interval(\n",
    "    [boulder_lat - 15, boulder_lat + 15]\n",
    ")"
   ],
   "outputs": [],
   "execution_count": null
  },
  {
   "cell_type": "code",
   "id": "81caec63-6fb4-4b68-b490-088c19512739",
   "metadata": {},
   "source": [
    "uxda_lat_interval.isel(time=0).plot(\n",
    "    rasterize=False,\n",
    "    projection=ccrs.Robinson(),\n",
    "    global_extent=True,\n",
    "    cmap=\"inferno\",\n",
    "    clim=(220, 310),\n",
    "    features=[\"coastline\"],\n",
    "    title=f\"Global temperature cross-section at the latitude interval [{boulder_lat-5},{boulder_lat+5}] degrees\",\n",
    "    width=700,\n",
    "    colorbar=False,\n",
    ")"
   ],
   "outputs": [],
   "execution_count": null
  },
  {
   "cell_type": "code",
   "id": "0ad2057b-615f-476e-8342-dd12b2c0c277",
   "metadata": {},
   "source": [
    "print(\n",
    "    f\"Mean at the latitude interval of [{boulder_lat-5},{boulder_lat+5}] degrees (-/+15 degrees Boulder, CO, USA): {uxda_lat_interval.mean().values} K\"\n",
    ")"
   ],
   "outputs": [],
   "execution_count": null
  },
  {
   "cell_type": "markdown",
   "id": "65cd1ec8-6595-41b8-a331-07425ce26b1f",
   "metadata": {},
   "source": "## Non-Conservative Zonal Mean"
  },
  {
   "cell_type": "markdown",
   "id": "53b35321-5d94-403e-bfc6-0119144a4a0d",
   "metadata": {},
   "source": [
    "Calculating the zonal mean is easy by providing the latitude range between -90 and 90 degrees with a step size in degrees:"
   ]
  },
  {
   "cell_type": "code",
   "id": "a4ccf851-b185-4ed5-809c-4268a020cc4b",
   "metadata": {},
   "source": [
    "zonal_mean_tas = uxda.isel(time=0).zonal_mean(lat=(-90, 90, 5))"
   ],
   "outputs": [],
   "execution_count": null
  },
  {
   "cell_type": "code",
   "id": "8b4c21e4-4cf7-40d8-aba9-49daf7fd8577",
   "metadata": {},
   "source": [
    "(\n",
    "    uxda.isel(time=0).plot(\n",
    "        cmap=\"inferno\",\n",
    "        # periodic_elements=\"split\",\n",
    "        height=300,\n",
    "        width=600,\n",
    "        colorbar=False,\n",
    "        ylim=(-90, 90),\n",
    "    )\n",
    "    + zonal_mean_tas.plot.line(\n",
    "        x=\"tas_zonal_mean\",\n",
    "        y=\"latitudes\",\n",
    "        height=300,\n",
    "        width=180,\n",
    "        ylabel=\"\",\n",
    "        ylim=(-90, 90),\n",
    "        xlim=(220, 310),\n",
    "        # xticks=[220, 250, 280, 310],\n",
    "        yticks=[-90, -45, 0, 45, 90],\n",
    "        grid=True,\n",
    "    )\n",
    ").opts(title=\"Temperature and its Zonal means at every 5 degrees latitude\")"
   ],
   "outputs": [],
   "execution_count": null
  },
  {
   "cell_type": "markdown",
   "id": "83257915-956a-46f2-b0a8-385bd207e9a9",
   "metadata": {},
   "source": "## Remapping & Custom Grid Topology"
  },
  {
   "cell_type": "markdown",
   "id": "de4d8a20-f62d-47d8-9734-4409acd5ccb4",
   "metadata": {},
   "source": [
    "Now, let’s take a look at an example of UXarray’s remapping functionality. UXarray currently supports two remapping methods:\n",
    "\n",
    "- **Nearest Neighbor**\n",
    "  Assigns each target point the value of its closest source point.\n",
    "\n",
    "- **Inverse Distance Weighted**\n",
    "  Computes each target point’s value as the weighted average of nearby source points, with weights inversely proportional to distance.\n",
    "\n",
    "\n",
    "For this example, we'll use the Nearest Neighbor approach.\n"
   ]
  },
  {
   "metadata": {},
   "cell_type": "markdown",
   "source": [
    "### Region of Interest: Chicago\n",
    "\n",
    "Before remapping, we restrict our data to a 2.5°×2.5° bounding box centered on Chicago, Illinois."
   ],
   "id": "4b4bc72c49770f69"
  },
  {
   "metadata": {},
   "cell_type": "code",
   "source": [
    "chicago_lon = -87.6298\n",
    "chicago_lat = 41.8781\n",
    "\n",
    "degree_span = 2.5\n",
    "half_span = degree_span / 2.0"
   ],
   "id": "97f35784d1e43d58",
   "outputs": [],
   "execution_count": null
  },
  {
   "metadata": {},
   "cell_type": "markdown",
   "source": "Since we will be using this subset of data for remapping, let's make the bounding box slightly larger than the extent of our destination grid.",
   "id": "5899d876925ac180"
  },
  {
   "metadata": {},
   "cell_type": "code",
   "source": [
    "degree_eps = 0.25\n",
    "half_span_eps = half_span + degree_eps\n",
    "\n",
    "healpix_subset = uxda.isel(time=0).subset.bounding_box(\n",
    "    (chicago_lon - half_span_eps, chicago_lon + half_span_eps),\n",
    "    (chicago_lat - half_span_eps, chicago_lat + half_span_eps),\n",
    ")\n",
    "healpix_subset.plot(\n",
    "    title=\"Temperature Subset around Chicago (HEALPix zoom 9)\",\n",
    "    backend=\"matplotlib\",\n",
    "    width=500,\n",
    "    height=500,\n",
    "    aspect=2,\n",
    "    cmap=\"inferno\",\n",
    "    features=[\"states\", \"rivers\"],\n",
    ")"
   ],
   "id": "81d73a9361d8713",
   "outputs": [],
   "execution_count": null
  },
  {
   "metadata": {},
   "cell_type": "markdown",
   "source": [
    "### Creating our Destination Grid\n",
    "\n",
    "UXarray wraps SciPy's mesh generation methods to support representing point cloud data build around the following algorithms\n",
    "- Delaunay Triangulation\n",
    "- Voronoi Tesselation\n",
    "\n",
    "Let's create a grid of points centered around Chicago and triangulate it to create our destination grid.\n"
   ],
   "id": "d393ee3ac8b15a5e"
  },
  {
   "metadata": {},
   "cell_type": "code",
   "source": [
    "import numpy as np\n",
    "\n",
    "n_points = 10\n",
    "\n",
    "# Longitude Vector\n",
    "lon_vals = np.linspace(\n",
    "    chicago_lon - half_span, chicago_lon + half_span, n_points, dtype=np.float64\n",
    ")\n",
    "\n",
    "# Latitude Vector\n",
    "lat_vals = np.linspace(\n",
    "    chicago_lat - half_span, chicago_lat + half_span, n_points, dtype=np.float64\n",
    ")\n",
    "\n",
    "# Meshgrid\n",
    "lon, lat = np.meshgrid(lon_vals, lat_vals)\n",
    "\n",
    "# flatten for processing\n",
    "lon_flat = lon.ravel()\n",
    "lat_flat = lat.ravel()\n",
    "\n",
    "# Create a mask of boundary points\n",
    "min_lon, max_lon = lon_vals[0], lon_vals[-1]\n",
    "min_lat, max_lat = lat_vals[0], lat_vals[-1]\n",
    "\n",
    "mask = (\n",
    "    np.isclose(lon_flat, min_lon)\n",
    "    | np.isclose(lon_flat, max_lon)\n",
    "    | np.isclose(lat_flat, min_lat)\n",
    "    | np.isclose(lat_flat, max_lat)\n",
    ")\n",
    "\n",
    "boundary_points = np.flatnonzero(mask)"
   ],
   "id": "fb56dee3202b2b6b",
   "outputs": [],
   "execution_count": null
  },
  {
   "metadata": {},
   "cell_type": "code",
   "source": [
    "destination_grid = ux.Grid.from_points(\n",
    "    (lon_flat, lat_flat),\n",
    "    method=\"regional_delaunay\",\n",
    "    boundary_points=boundary_points,\n",
    ")\n",
    "\n",
    "destination_grid.plot(\n",
    "    title=\"Triangulated Points (Destination Grid)\",\n",
    "    backend=\"matplotlib\",\n",
    "    width=500,\n",
    "    height=500,\n",
    "    aspect=2,\n",
    "    features=[\"states\", \"rivers\"],\n",
    ")"
   ],
   "id": "89ed8774818d9b4a",
   "outputs": [],
   "execution_count": null
  },
  {
   "metadata": {},
   "cell_type": "markdown",
   "source": [
    "### Remapping\n",
    "\n",
    "Now that we have both our subset of the original data and our custom destination grid, let’s remap!"
   ],
   "id": "f8d9b5a42cf3f849"
  },
  {
   "metadata": {},
   "cell_type": "code",
   "source": [
    "uxda_remapped = uxda.isel(time=0).remap.nearest_neighbor(\n",
    "    destination_grid, coord_type=\"cartesian\"\n",
    ")"
   ],
   "id": "ffa6bf77b46980ad",
   "outputs": [],
   "execution_count": null
  },
  {
   "metadata": {},
   "cell_type": "code",
   "source": [
    "(\n",
    "    healpix_subset.plot(\n",
    "        title=\"Temperature Subset around Chicago (HEALPix zoom 9)\",\n",
    "        backend=\"matplotlib\",\n",
    "        width=600,\n",
    "        height=600,\n",
    "        aspect=2,\n",
    "        cmap=\"inferno\",\n",
    "        features=[\"states\", \"rivers\"],\n",
    "    )\n",
    "    + uxda_remapped.plot(\n",
    "        title=\"Remapped Temperature\",\n",
    "        backend=\"matplotlib\",\n",
    "        width=600,\n",
    "        height=600,\n",
    "        aspect=2,\n",
    "        cmap=\"inferno\",\n",
    "        features=[\"states\", \"rivers\"],\n",
    "    )\n",
    ").cols(1).opts(fig_size=150)"
   ],
   "id": "406f3f820b7f88a0",
   "outputs": [],
   "execution_count": null
  }
 ],
 "metadata": {
  "kernelspec": {
   "display_name": "Python 3 (ipykernel)",
   "language": "python",
   "name": "python3"
  },
  "language_info": {
   "codemirror_mode": {
    "name": "ipython",
    "version": 3
   },
   "file_extension": ".py",
   "mimetype": "text/x-python",
   "name": "python",
   "nbconvert_exporter": "python",
   "pygments_lexer": "ipython3",
   "version": "3.13.3"
  }
 },
 "nbformat": 4,
 "nbformat_minor": 5
}
